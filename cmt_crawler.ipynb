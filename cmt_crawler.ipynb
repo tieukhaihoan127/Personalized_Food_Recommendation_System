{
 "cells": [
  {
   "cell_type": "code",
   "id": "3ec9ddb25a69c795",
   "metadata": {
    "ExecuteTime": {
     "end_time": "2025-10-03T14:32:33.837407Z",
     "start_time": "2025-10-03T14:32:33.783429Z"
    }
   },
   "source": [
    "from selenium.webdriver.support.wait import WebDriverWait\n",
    "from selenium import webdriver\n",
    "from selenium.webdriver.common.by import By\n",
    "from selenium.webdriver.support import expected_conditions as EC"
   ],
   "outputs": [],
   "execution_count": 1
  },
  {
   "cell_type": "code",
   "id": "d5c4565dcc99949d",
   "metadata": {
    "ExecuteTime": {
     "end_time": "2025-10-03T14:32:33.842474Z",
     "start_time": "2025-10-03T14:32:33.840016Z"
    }
   },
   "source": [
    "review_id = 13676\n",
    "\n",
    "def crawl_data(url, res_id):\n",
    "    global review_id\n",
    "    browser = webdriver.Chrome()\n",
    "    browser.get(url)\n",
    "\n",
    "    results = []\n",
    "\n",
    "    # Chờ phần review hiển thị\n",
    "    try:\n",
    "        WebDriverWait(browser, 15).until(\n",
    "            EC.presence_of_element_located((By.CLASS_NAME, \"review-item\"))\n",
    "        )\n",
    "    except:\n",
    "        print(f\"⛔ Không tìm thấy review nào cho {url}\")\n",
    "        browser.quit()\n",
    "        return results\n",
    "\n",
    "    # Nhấn \"Xem thêm bình luận\" cho đến khi hết\n",
    "    while True:\n",
    "        try:\n",
    "            load_more = WebDriverWait(browser, 5).until(\n",
    "                EC.element_to_be_clickable(\n",
    "                    (By.XPATH, '//a[@class=\"fd-btn-more\"]/label[contains(text(),\"Xem thêm bình luận\")]'))\n",
    "            )\n",
    "            browser.execute_script(\"arguments[0].click();\", load_more)\n",
    "            WebDriverWait(browser, 5).until(  # Wait for new content to load\n",
    "                lambda driver: len(driver.find_elements(By.CLASS_NAME, \"review-item\")) > len(results)\n",
    "            )\n",
    "        except Exception:\n",
    "            break\n",
    "\n",
    "    comments = browser.find_elements(By.CLASS_NAME, \"review-item\")\n",
    "\n",
    "    # Xuất dữ liệu review\n",
    "    for c in comments:\n",
    "        try:\n",
    "            username = c.find_element(By.CSS_SELECTOR, \".ru-username\").text.strip()\n",
    "            review_text = c.find_element(By.CSS_SELECTOR, \".rd-des span\").text.strip()\n",
    "            score_text = c.find_element(By.CSS_SELECTOR, \".review-points span\").text.strip()\n",
    "\n",
    "        except:\n",
    "            username = \"Người dùng ẩn danh\"  # hoặc \"Ẩn danh\"\n",
    "            review_text = \"Đã bình luận ẩn danh\"\n",
    "            score_text = \"0.0\"\n",
    "\n",
    "        review = {\n",
    "            \"review_id\": review_id,\n",
    "            \"username\": username,\n",
    "            \"review_text\": review_text,\n",
    "            \"score_text\": score_text,\n",
    "            \"res_id\": res_id,\n",
    "        }\n",
    "        review_id = review_id + 1\n",
    "        results.append(review)\n",
    "    browser.close()\n",
    "\n",
    "    return results\n"
   ],
   "outputs": [],
   "execution_count": 2
  },
  {
   "cell_type": "code",
   "id": "65d4b2fac7fd9f2a",
   "metadata": {
    "ExecuteTime": {
     "end_time": "2025-10-03T16:01:10.563251Z",
     "start_time": "2025-10-03T14:32:33.844490Z"
    }
   },
   "source": [
    "from urls import urls\n",
    "\n",
    "results = []\n",
    "for idx, url in enumerate(urls, start=499):\n",
    "    data = crawl_data(url, idx)\n",
    "    for comment in data:\n",
    "        results.append(comment)\n",
    "\n",
    "# Xuất JSON\n",
    "import json\n",
    "with open(\"restaurants_reviews_03.json\", \"w\", encoding=\"utf-8\") as f:\n",
    "    json.dump(results, f, ensure_ascii=False, indent=4)\n",
    "\n"
   ],
   "outputs": [],
   "execution_count": 3
  }
 ],
 "metadata": {
  "kernelspec": {
   "display_name": "venv (3.13.7)",
   "language": "python",
   "name": "python3"
  },
  "language_info": {
   "codemirror_mode": {
    "name": "ipython",
    "version": 2
   },
   "file_extension": ".py",
   "mimetype": "text/x-python",
   "name": "python",
   "nbconvert_exporter": "python",
   "pygments_lexer": "ipython2",
   "version": "3.13.7"
  }
 },
 "nbformat": 4,
 "nbformat_minor": 5
}
